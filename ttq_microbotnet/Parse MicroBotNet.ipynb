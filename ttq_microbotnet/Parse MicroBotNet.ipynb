{
 "cells": [
  {
   "cell_type": "code",
   "execution_count": 1,
   "metadata": {},
   "outputs": [],
   "source": [
    "%load_ext autoreload\n",
    "%autoreload 2"
   ]
  },
  {
   "cell_type": "code",
   "execution_count": 15,
   "metadata": {},
   "outputs": [],
   "source": [
    "import torch\n",
    "import torch.nn as nn\n",
    "import torch.optim as optim\n",
    "import sys\n",
    "sys.path.append('../vanilla_microbotnet/')\n",
    "from fd_mobilenet_v3 import FdMobileNetV3Imp2\n",
    "from functools import reduce"
   ]
  },
  {
   "cell_type": "code",
   "execution_count": 4,
   "metadata": {},
   "outputs": [
    {
     "name": "stdout",
     "output_type": "stream",
     "text": [
      "8\n"
     ]
    }
   ],
   "source": [
    "model = FdMobileNetV3Imp2(classes_num=10, input_size=32, width_multiplier=0.32, mode='small')\n",
    "\n",
    "# first layer is not trainable\n",
    "first_layer = model.features[0][0]\n",
    "first_layer.weight.requires_grad = False\n",
    "\n",
    "# last fc layer is not trainable. (NOTE: there are multiple Linear units\n",
    "# in the bottleneck layers. What should we do with them?)\n",
    "last_linear = model.classifier[1]\n",
    "weights = [last_linear.weight]\n",
    "biases = [last_linear.bias]\n",
    "\n",
    "\n",
    "# [p for n, p in model.named_parameters() if 'fc' in n]\n",
    "# what about bias\n",
    "\n",
    "\n",
    "# Only bottlenecks [1:11] are quantized\n",
    "weights_to_be_quantized = [\n",
    "    p for n, p in model.features[1:11].named_parameters()\n",
    "    if 'conv' in n and 'lastBN' not in n and 'fc' not in n\n",
    "]\n",
    "\n",
    "# parameters of batch_norm layers\n",
    "bn_weights = [model.features[0][1].weight, model.features[11][1].weight] + \\\n",
    "    [\n",
    "        p for n, p in model.features[1:11].named_parameters()\n",
    "        if 'lastBN' in n and 'weight' in n\n",
    "    ]\n",
    "bn_biases = [model.features[0][1].bias, model.features[11][1].bias] + \\\n",
    "    [\n",
    "        p for n, p in model.features[1:11].named_parameters()\n",
    "        if 'lastBN' in n and 'bias' in n\n",
    "    ]\n",
    "\n",
    "params = [\n",
    "    {'params': weights, 'weight_decay': 1e-4},\n",
    "    {'params': weights_to_be_quantized},\n",
    "    {'params': biases},\n",
    "    {'params': bn_weights},\n",
    "    {'params': bn_biases}\n",
    "]"
   ]
  },
  {
   "cell_type": "code",
   "execution_count": 6,
   "metadata": {},
   "outputs": [
    {
     "name": "stdout",
     "output_type": "stream",
     "text": [
      "8\n"
     ]
    }
   ],
   "source": [
    "model = FdMobileNetV3Imp2(classes_num=10, input_size=32, width_multiplier=0.32, mode='small')\n"
   ]
  },
  {
   "cell_type": "code",
   "execution_count": 39,
   "metadata": {},
   "outputs": [
    {
     "data": {
      "text/plain": [
       "[('3.conv.0.weight', torch.Size([80, 16, 1, 1]), 1280),\n",
       " ('3.conv.3.weight', torch.Size([80, 1, 5, 5]), 2000),\n",
       " ('3.conv.5.fc.0.weight', torch.Size([20, 80]), 1600),\n",
       " ('3.conv.5.fc.2.weight', torch.Size([80, 20]), 1600),\n",
       " ('3.conv.7.weight', torch.Size([16, 80, 1, 1]), 1280),\n",
       " ('5.conv.3.weight', torch.Size([48, 1, 5, 5]), 1200),\n",
       " ('6.conv.0.weight', torch.Size([96, 16, 1, 1]), 1536),\n",
       " ('6.conv.3.weight', torch.Size([96, 1, 5, 5]), 2400),\n",
       " ('6.conv.5.fc.0.weight', torch.Size([24, 96]), 2304),\n",
       " ('6.conv.5.fc.2.weight', torch.Size([96, 24]), 2304),\n",
       " ('6.conv.7.weight', torch.Size([32, 96, 1, 1]), 3072),\n",
       " ('7.conv.0.weight', torch.Size([184, 32, 1, 1]), 5888),\n",
       " ('7.conv.3.weight', torch.Size([184, 1, 5, 5]), 4600),\n",
       " ('7.conv.5.fc.0.weight', torch.Size([46, 184]), 8464),\n",
       " ('7.conv.5.fc.2.weight', torch.Size([184, 46]), 8464),\n",
       " ('7.conv.7.weight', torch.Size([32, 184, 1, 1]), 5888),\n",
       " ('8.conv.0.weight', torch.Size([184, 32, 1, 1]), 5888),\n",
       " ('8.conv.3.weight', torch.Size([184, 1, 5, 5]), 4600),\n",
       " ('8.conv.5.fc.0.weight', torch.Size([46, 184]), 8464),\n",
       " ('8.conv.5.fc.2.weight', torch.Size([184, 46]), 8464),\n",
       " ('8.conv.7.weight', torch.Size([32, 184, 1, 1]), 5888),\n",
       " ('9.conv.0.weight', torch.Size([184, 32, 1, 1]), 5888),\n",
       " ('9.conv.3.weight', torch.Size([184, 1, 5, 5]), 4600),\n",
       " ('9.conv.5.fc.0.weight', torch.Size([46, 184]), 8464),\n",
       " ('9.conv.5.fc.2.weight', torch.Size([184, 46]), 8464),\n",
       " ('9.conv.7.weight', torch.Size([32, 184, 1, 1]), 5888),\n",
       " ('10.conv.0.weight', torch.Size([184, 32, 1, 1]), 5888),\n",
       " ('10.conv.3.weight', torch.Size([184, 1, 5, 5]), 4600),\n",
       " ('10.conv.5.fc.0.weight', torch.Size([46, 184]), 8464),\n",
       " ('10.conv.5.fc.2.weight', torch.Size([184, 46]), 8464),\n",
       " ('10.conv.7.weight', torch.Size([32, 184, 1, 1]), 5888)]"
      ]
     },
     "execution_count": 39,
     "metadata": {},
     "output_type": "execute_result"
    }
   ],
   "source": [
    "min_size_quantize = 1000\n",
    "only_conv = False\n",
    "\n",
    "def is_to_be_quantized(n):\n",
    "    if only_conv:\n",
    "        return 'conv' in n and 'fc' not in n\n",
    "    return 'conv' in n or 'fc' in n \n",
    "\n",
    "def is_greater_than_min_quantize(p):\n",
    "    return reduce(lambda x, y: x*y, p.shape) > min_size_quantize\n",
    "\n",
    "weights_to_be_quantized = [\n",
    "    p for n, p in model.features[1:11].named_parameters()\n",
    "    if is_to_be_quantized(n) and 'weight' in n\n",
    "    and 'lastBN' not in n\n",
    "    and is_greater_than_min_quantize(p)\n",
    "    # and ( or only_conv)\n",
    "]\n",
    "weights_to_be_quantized"
   ]
  },
  {
   "cell_type": "code",
   "execution_count": null,
   "metadata": {},
   "outputs": [],
   "source": []
  }
 ],
 "metadata": {
  "kernelspec": {
   "display_name": "Python 3",
   "language": "python",
   "name": "python3"
  },
  "language_info": {
   "codemirror_mode": {
    "name": "ipython",
    "version": 3
   },
   "file_extension": ".py",
   "mimetype": "text/x-python",
   "name": "python",
   "nbconvert_exporter": "python",
   "pygments_lexer": "ipython3",
   "version": "3.7.4"
  }
 },
 "nbformat": 4,
 "nbformat_minor": 2
}
