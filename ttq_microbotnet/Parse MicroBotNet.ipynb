{
 "cells": [
  {
   "cell_type": "code",
   "execution_count": 1,
   "metadata": {},
   "outputs": [],
   "source": [
    "%load_ext autoreload\n",
    "%autoreload 2"
   ]
  },
  {
   "cell_type": "code",
   "execution_count": 7,
   "metadata": {},
   "outputs": [],
   "source": [
    "import torch\n",
    "import torch.nn as nn\n",
    "import torch.optim as optim\n",
    "from fd_mobilenet_v3 import FdMobileNetV3Imp2"
   ]
  },
  {
   "cell_type": "code",
   "execution_count": 21,
   "metadata": {},
   "outputs": [
    {
     "name": "stdout",
     "output_type": "stream",
     "text": [
      "8\n"
     ]
    }
   ],
   "source": [
    "model = FdMobileNetV3Imp2(classes_num=10, input_size=32, width_multiplier=0.32, mode='small')\n",
    "\n",
    "# first layer is not trainable\n",
    "first_layer = model.features[0][0]\n",
    "first_layer.weight.requires_grad = False\n",
    "\n",
    "# last fc layer is not trainable. (NOTE: there are multiple Linear units\n",
    "# in the bottleneck layers. What should we do with them?)\n",
    "last_linear = model.classifier[1]\n",
    "weights = [last_linear.weight]\n",
    "biases = [last_linear.bias]\n",
    "\n",
    "\n",
    "# [p for n, p in model.named_parameters() if 'fc' in n]\n",
    "# what about bias\n",
    "\n",
    "\n",
    "# Only bottlenecks [1:11] are quantized\n",
    "weights_to_be_quantized = [\n",
    "    p for n, p in model.features[1:11].named_parameters()\n",
    "    if 'conv' in n and 'lastBN' not in n and 'fc' not in n\n",
    "]\n",
    "\n",
    "# parameters of batch_norm layers\n",
    "bn_weights = [model.features[0][1].weight, model.features[11][1].weight] + \\\n",
    "    [\n",
    "        p for n, p in model.features[1:11].named_parameters()\n",
    "        if 'lastBN' in n and 'weight' in n\n",
    "    ]\n",
    "bn_biases = [model.features[0][1].bias, model.features[11][1].bias] + \\\n",
    "    [\n",
    "        p for n, p in model.features[1:11].named_parameters()\n",
    "        if 'lastBN' in n and 'bias' in n\n",
    "    ]\n",
    "\n",
    "params = [\n",
    "    {'params': weights, 'weight_decay': 1e-4},\n",
    "    {'params': weights_to_be_quantized},\n",
    "    {'params': biases},\n",
    "    {'params': bn_weights},\n",
    "    {'params': bn_biases}\n",
    "]"
   ]
  },
  {
   "cell_type": "code",
   "execution_count": 28,
   "metadata": {},
   "outputs": [
    {
     "data": {
      "text/plain": [
       "<All keys matched successfully>"
      ]
     },
     "execution_count": 28,
     "metadata": {},
     "output_type": "execute_result"
    }
   ],
   "source": []
  },
  {
   "cell_type": "code",
   "execution_count": null,
   "metadata": {},
   "outputs": [],
   "source": []
  }
 ],
 "metadata": {
  "kernelspec": {
   "display_name": "Python 3",
   "language": "python",
   "name": "python3"
  },
  "language_info": {
   "codemirror_mode": {
    "name": "ipython",
    "version": 3
   },
   "file_extension": ".py",
   "mimetype": "text/x-python",
   "name": "python",
   "nbconvert_exporter": "python",
   "pygments_lexer": "ipython3",
   "version": "3.7.4"
  }
 },
 "nbformat": 4,
 "nbformat_minor": 2
}
